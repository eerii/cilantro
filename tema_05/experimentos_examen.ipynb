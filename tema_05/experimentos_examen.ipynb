{
 "cells": [
  {
   "cell_type": "code",
   "execution_count": 1,
   "metadata": {},
   "outputs": [],
   "source": [
    "import numpy as np\n",
    "import pandas as pd\n",
    "import matplotlib.pyplot as plt\n",
    "import time\n",
    "import random as r"
   ]
  },
  {
   "cell_type": "code",
   "execution_count": 5,
   "metadata": {},
   "outputs": [
    {
     "name": "stdout",
     "output_type": "stream",
     "text": [
      "Hola José, tu media es 4.75\n"
     ]
    }
   ],
   "source": [
    "# Tipos en una función\n",
    "\n",
    "def hola(nombre: str, notas: list) -> str:\n",
    "    return (\"Hola {}, tu media es {:.2f}\".format(nombre, sum(notas)/len(notas)))\n",
    "\n",
    "print(hola(\"José\", [3.0, 5.5, 4.5, 6.0]))"
   ]
  },
  {
   "cell_type": "code",
   "execution_count": 8,
   "metadata": {},
   "outputs": [
    {
     "name": "stdout",
     "output_type": "stream",
     "text": [
      "{'a': 1, 'b': 4, 'c': 3, 'd': 5, 'e': 6}\n",
      "{'b', 'c', 'e', 'a', 'd'}\n"
     ]
    }
   ],
   "source": [
    "# Nuevos diccionarios\n",
    "\n",
    "a = {'a': 1, 'b': 2, 'c': 3}\n",
    "b = {'b': 4, 'd': 5, 'e': 6}\n",
    "print({**a, **b})\n",
    "print({*a, *b})"
   ]
  },
  {
   "cell_type": "code",
   "execution_count": 30,
   "metadata": {},
   "outputs": [
    {
     "name": "stdout",
     "output_type": "stream",
     "text": [
      "Hola José\n",
      "<function decorator.<locals>.wrapper at 0x11425e5e0>\n",
      "Holaaaa\n",
      "heeeeeey\n",
      "Hola Manu\n",
      "Hola Manu\n",
      "<function dos_veces.<locals>.wrapper at 0x11434c790>\n",
      "<function saludar at 0x1142e7b80>\n"
     ]
    }
   ],
   "source": [
    "# Decorators\n",
    "\n",
    "def decorator(func):\n",
    "    def wrapper():\n",
    "        return \"Hola {}\".format(func())\n",
    "    return wrapper\n",
    "\n",
    "def mi_nombre():\n",
    "    return \"José\"\n",
    "\n",
    "mi_nombre = decorator(mi_nombre)\n",
    "print(mi_nombre())\n",
    "print(mi_nombre)\n",
    "\n",
    "# Cambio dinámico\n",
    "hora = 8\n",
    "\n",
    "def not_during_the_night(func):\n",
    "    def wrapper():\n",
    "        if 7 <= hora < 22:\n",
    "            func()\n",
    "        else:\n",
    "            pass\n",
    "    return wrapper\n",
    "\n",
    "def say_hi():\n",
    "    print(\"Holaaaa\")\n",
    "\n",
    "say_hi = not_during_the_night(say_hi)\n",
    "say_hi()\n",
    "\n",
    "# Ahora de verdad, @decorator es equivalente a func = decorator(func)\n",
    "\n",
    "@not_during_the_night\n",
    "def holuuu():\n",
    "    print(\"heeeeeey\")\n",
    "\n",
    "holuuu()\n",
    "\n",
    "# Otro ejemplo con argumentos\n",
    "\n",
    "def dos_veces(func):\n",
    "    def wrapper(*args, **kwargs):\n",
    "        func(*args, **kwargs)\n",
    "        func(*args, **kwargs)\n",
    "    return wrapper\n",
    "\n",
    "@dos_veces\n",
    "def saludar(nombre):\n",
    "    print(\"Hola {}\".format(nombre))\n",
    "\n",
    "saludar(\"Manu\")\n",
    "print(saludar)\n",
    "\n",
    "# Si quieres conservar la función como si misma puedes usar functools\n",
    "\n",
    "import functools\n",
    "\n",
    "def dos_veces(func):\n",
    "    @functools.wraps(func)\n",
    "    def wrapper(*args, **kwargs):\n",
    "        func(*args, **kwargs)\n",
    "        func(*args, **kwargs)\n",
    "    return wrapper\n",
    "\n",
    "@dos_veces\n",
    "def saludar(nombre):\n",
    "    print(\"Hola {}\".format(nombre))\n",
    "\n",
    "print(saludar)"
   ]
  },
  {
   "cell_type": "code",
   "execution_count": 1,
   "metadata": {},
   "outputs": [
    {
     "name": "stdout",
     "output_type": "stream",
     "text": [
      "factorial(0) = 1\n",
      "factorial(1) = 1\n",
      "factorial(2) = 2\n",
      "factorial(3) = 6\n",
      "factorial(4) = 24\n",
      "factorial(5) = 120\n"
     ]
    },
    {
     "data": {
      "text/plain": [
       "2.7166666666666663"
      ]
     },
     "execution_count": 1,
     "metadata": {},
     "output_type": "execute_result"
    }
   ],
   "source": [
    "# Debugger con decorators\n",
    "\n",
    "import functools\n",
    "\n",
    "def debug(func):\n",
    "    @functools.wraps(func)\n",
    "    def wrapper(*args, **kwargs):\n",
    "        ar = [repr(a) for a in args]\n",
    "        kw = [\"{k}={v!r}\" for k, v in kwargs.items()]\n",
    "        value = func(*args, **kwargs)\n",
    "        print(\"{}({}) = {}\".format(func.__name__, \", \".join(ar + kw), value))\n",
    "        return value\n",
    "    return wrapper\n",
    "\n",
    "import math\n",
    "math.factorial = debug(math.factorial)\n",
    "\n",
    "def approximate_e(terms):\n",
    "    return sum(1 / math.factorial(n) for n in range(terms))\n",
    "\n",
    "approximate_e(6)"
   ]
  },
  {
   "cell_type": "code",
   "execution_count": 8,
   "metadata": {},
   "outputs": [
    {
     "name": "stdout",
     "output_type": "stream",
     "text": [
      "1 Manu ('Holi',) {'a': 1, 'b': 2}\n",
      "{'num': <class 'int'>, 'name': typing.Annotated[str, 'nombre']}\n",
      "{'num': <class 'int'>, 'name': <class 'str'>}\n",
      "1.6666666666666667\n",
      "{'segundos': ~Segundos, 'return': ~Horas}\n"
     ]
    }
   ],
   "source": [
    "import typing as t\n",
    "\n",
    "def func(num: int, name: t.Annotated[str, \"nombre\"], *args, **kwargs):\n",
    "    print(num, name, args, kwargs)\n",
    "\n",
    "func(1, \"Manu\", \"Holi\", a=1, b=2)\n",
    "print(func.__annotations__)\n",
    "print(t.get_type_hints(func))\n",
    "\n",
    "Segundos = t.TypeVar(\"Segundos\", int, float)\n",
    "Horas = t.TypeVar(\"Horas\", int, float)\n",
    "def horas(segundos: Segundos) -> Horas:\n",
    "    return segundos / 3600\n",
    "\n",
    "print(horas(6000))\n",
    "print(horas.__annotations__)"
   ]
  },
  {
   "cell_type": "code",
   "execution_count": 11,
   "metadata": {},
   "outputs": [],
   "source": [
    "from __future__ import annotations\n",
    "numbers : list[int] = [3, 6, 9]"
   ]
  },
  {
   "cell_type": "code",
   "execution_count": 9,
   "metadata": {},
   "outputs": [
    {
     "name": "stdout",
     "output_type": "stream",
     "text": [
      "Hola\n",
      "2\n",
      "10.5\n"
     ]
    }
   ],
   "source": [
    "# Matching\n",
    "\n",
    "test = {\"hola\": 1, \"adios\": 2}\n",
    "\n",
    "match test:\n",
    "    case {\"hola\": _}:\n",
    "        print(\"Hola\")\n",
    "    \n",
    "match test:\n",
    "    case {\"adios\": adios}:\n",
    "        pass\n",
    "print(adios)\n",
    "\n",
    "# Sumar lista\n",
    "def sum_list(numbers: list[int | float]):\n",
    "    match numbers:\n",
    "        case []:\n",
    "            return 0\n",
    "        case [int(n) | float(n), *rest]:\n",
    "            return n + sum_list(rest)\n",
    "        case _:\n",
    "            raise TypeError(\"No se puede sumar una lista de tipos distintos\")\n",
    "    \n",
    "print(sum_list([1, 2, 3, 4.5]))"
   ]
  },
  {
   "cell_type": "code",
   "execution_count": 30,
   "metadata": {},
   "outputs": [
    {
     "name": "stdout",
     "output_type": "stream",
     "text": [
      "Hola Manu\n",
      "\n",
      "Hola Manu\n",
      "Esto tiene varias lineas\n",
      "uwu\n",
      "\n",
      "pi = 3.14\n",
      "a = 2.348395e+12\n",
      " 1   1    1\n",
      " 2   4    8\n",
      " 3   9   27\n",
      " 4  16   64\n",
      " 5  25  125\n",
      " 6  36  216\n",
      " 7  49  343\n",
      " 8  64  512\n",
      " 9  81  729\n",
      "10 100 1000\n",
      "numero=3.141592\n"
     ]
    }
   ],
   "source": [
    "# FORMAT STRINGS!!!\n",
    "\n",
    "nombre = \"Manu\"\n",
    "print(f\"Hola {nombre}\")\n",
    "\n",
    "# Varias lineas\n",
    "mensaje = f\"\"\"\n",
    "Hola {nombre}\n",
    "Esto tiene varias lineas\n",
    "uwu\n",
    "\"\"\"\n",
    "print(mensaje)\n",
    "\n",
    "# Format\n",
    "numero = 3.141592\n",
    "print(f\"pi = {numero:.2f}\")\n",
    "\n",
    "a = 2348394829384.03240194\n",
    "print(f\"a = {a:e}\")\n",
    "\n",
    "for x in range(1, 11):\n",
    "    print(f\"{x:2} {x*x:3} {x*x*x:4}\")\n",
    "\n",
    "# Easy debug\n",
    "print(f\"{numero=}\")"
   ]
  },
  {
   "cell_type": "code",
   "execution_count": null,
   "metadata": {},
   "outputs": [],
   "source": []
  }
 ],
 "metadata": {
  "interpreter": {
   "hash": "aee8b7b246df8f9039afb4144a1f6fd8d2ca17a180786b69acc140d282b71a49"
  },
  "kernelspec": {
   "display_name": "Python 3.9.10 64-bit",
   "language": "python",
   "name": "python3"
  },
  "language_info": {
   "codemirror_mode": {
    "name": "ipython",
    "version": 3
   },
   "file_extension": ".py",
   "mimetype": "text/x-python",
   "name": "python",
   "nbconvert_exporter": "python",
   "pygments_lexer": "ipython3",
   "version": "3.10.2"
  },
  "orig_nbformat": 4
 },
 "nbformat": 4,
 "nbformat_minor": 2
}
