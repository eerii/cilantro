{
 "cells": [
  {
   "cell_type": "code",
   "execution_count": 75,
   "metadata": {},
   "outputs": [],
   "source": [
    "import numpy as np\n",
    "import matplotlib.pyplot as plt"
   ]
  },
  {
   "cell_type": "code",
   "execution_count": 76,
   "metadata": {},
   "outputs": [],
   "source": [
    "# Función f(x)\n",
    "f = lambda x: x**2 - 3*x + np.exp(x) - 2\n",
    "\n",
    "# Devuelve un intervalo entre a y b con n subintervalos y la longitud de cada subintervalo\n",
    "intervalo = lambda a, b, n : (np.linspace(a, b, n+1), (b - a) / (n+1))"
   ]
  },
  {
   "cell_type": "code",
   "execution_count": 83,
   "metadata": {},
   "outputs": [
    {
     "name": "stdout",
     "output_type": "stream",
     "text": [
      "Ceros detectados en (-2.00, 4.00): 2\n",
      " > (-0.50, -0.21)\n",
      " > (1.30, 1.59)\n"
     ]
    }
   ],
   "source": [
    "# Divisiones\n",
    "i, di = intervalo(-2, 4, 20)\n",
    "fa = f(i) # Valores de f en cada punto\n",
    "\n",
    "# Comprobar si dos valores tienen signo distinto\n",
    "signo_distinto = lambda x, y: x * y < 0\n",
    "\n",
    "# Punto inicial de cada intervalo en el que hay ceros\n",
    "ceros = lambda i : i[:-1][signo_distinto(f(i)[:-1], f(i)[1:])]\n",
    "\n",
    "c = ceros(i)\n",
    "\n",
    "# Información sobre los intervalos\n",
    "print(\"Ceros detectados en ({:.2f}, {:.2f}): {}\".format(i[0], i[-1], len(c)))\n",
    "for x0 in c:\n",
    "    print(\" > ({:.2f}, {:.2f})\".format(x0, x0+di))"
   ]
  },
  {
   "cell_type": "code",
   "execution_count": 79,
   "metadata": {},
   "outputs": [
    {
     "data": {
      "image/png": "[encoded data removed]",
      "text/plain": [
       "<Figure size 432x288 with 1 Axes>"
      ]
     },
     "metadata": {
      "needs_background": "light"
     },
     "output_type": "display_data"
    }
   ],
   "source": [
    "# Representación gráfica de la función\n",
    "x = np.linspace(i[0], i[-1], 100)\n",
    "y = f(x)\n",
    "\n",
    "plt.plot(x, y) # Función\n",
    "plt.plot(np.linspace(i[0], i[-1], 100), np.zeros(100)) # Eje y = 0\n",
    "\n",
    "# Lineas para los ceros\n",
    "for x0 in c:\n",
    "    plt.plot(np.ones(10)*x0, np.linspace(-1, 50, 10), color=\"gold\")\n",
    "    plt.plot(np.ones(10)*(x0+di), np.linspace(-1, 50, 10), color=\"gold\")\n",
    "\n",
    "plt.show()"
   ]
  },
  {
   "cell_type": "code",
   "execution_count": 97,
   "metadata": {},
   "outputs": [],
   "source": [
    "# Escoger la mitad del intervalo donde haya un cero\n",
    "def escoger_intervalo(a, c):\n",
    "    if (signo_distinto(f(a), f(c))):\n",
    "        return a\n",
    "    return c\n",
    "\n",
    "def encontrar_ceros(ceros_iniciales, d_inicial, funcion_intermedio, precision):\n",
    "    A = ceros_iniciales # Inicio de los subintervalos en los que hay ceros\n",
    "    D = d_inicial # Tamaño de los subintervalos\n",
    "\n",
    "    ceros = [] # Lista de ceros (inicio_intervalo, tamaño_intervalo, valor_cero)\n",
    "\n",
    "    while len(A) > 0:\n",
    "        # Actualizar lista de subintervalos\n",
    "        D_ = np.ones(len(A)) * D\n",
    "        C = list(map(funcion_intermedio, A, D_))\n",
    "        A = list(map(escoger_intervalo, A, C))\n",
    "\n",
    "        # Comprobar precisión\n",
    "        for a in A:\n",
    "            v = f(a) # f(punto_medio(a, D))\n",
    "            if abs(v) < precision:\n",
    "                ceros += [(a, D, v)]\n",
    "                A.remove(a)\n",
    "\n",
    "        # Dividir el tamaño de los subintervalos\n",
    "        D *= 0.5\n",
    "\n",
    "    return ceros\n",
    "\n",
    "def print_ceros(ceros):\n",
    "    for i in ceros:\n",
    "        a_, d_, v_ = i\n",
    "        print(\" > Cero estimado en {:.6f} +/- {:.2e}, con un valor de {:.2e}\".format(punto_medio(a_, d_), d_ * 0.5, v_))"
   ]
  },
  {
   "cell_type": "code",
   "execution_count": 101,
   "metadata": {},
   "outputs": [
    {
     "name": "stdout",
     "output_type": "stream",
     "text": [
      "Bisección, intervalo (-0.50, -0.20), precisión 1.00e-10\n",
      " > Cero estimado en -0.390272 +/- 2.66e-11, con un valor de 3.64e-11\n"
     ]
    }
   ],
   "source": [
    "# Bisección\n",
    "\n",
    "# Precisión deseada\n",
    "precision = 1e-10\n",
    "\n",
    "# Funcion punto medio\n",
    "punto_medio = lambda a, d: a + d * 0.5\n",
    "\n",
    "# Ceros iniciales\n",
    "i, di = intervalo(-0.5, -0.2, 20)\n",
    "c = ceros(i)\n",
    "\n",
    "# Ceros biseccion\n",
    "ceros_biseccion = encontrar_ceros(c, di, punto_medio, precision)\n",
    "print(\"Bisección, intervalo ({:.2f}, {:.2f}), precisión {:.2e}\".format(i[0], i[-1], precision))\n",
    "print_ceros(ceros_biseccion)"
   ]
  },
  {
   "cell_type": "code",
   "execution_count": 103,
   "metadata": {},
   "outputs": [
    {
     "name": "stdout",
     "output_type": "stream",
     "text": [
      "Falsi, intervalo (-4.00, 2.00), precisión 1.00e-10\n",
      " > Cero estimado en 1.448471 +/- 2.23e-03, con un valor de -1.23e-12\n",
      " > Cero estimado en -0.390271 +/- 1.09e-06, con un valor de 5.17e-12\n"
     ]
    }
   ],
   "source": [
    "# Regula falsi\n",
    "\n",
    "# Precisión deseada\n",
    "precision = 1e-10\n",
    "\n",
    "# Funcion punto falsi\n",
    "punto_falsi = lambda a, d: a - (f(a) * (d / (f(a+d) - f(a))))\n",
    "\n",
    "# Ceros iniciales\n",
    "i, di = intervalo(-4, 2, 20)\n",
    "c = ceros(i)\n",
    "\n",
    "# Ceros falsi\n",
    "ceros_falsi = encontrar_ceros(c, di, punto_falsi, precision)\n",
    "print(\"Falsi, intervalo ({:.2f}, {:.2f}), precisión {:.2e}\".format(i[0], i[-1], precision))\n",
    "print_ceros(ceros_falsi)"
   ]
  },
  {
   "cell_type": "code",
   "execution_count": null,
   "metadata": {},
   "outputs": [],
   "source": []
  }
 ],
 "metadata": {
  "interpreter": {
   "hash": "aee8b7b246df8f9039afb4144a1f6fd8d2ca17a180786b69acc140d282b71a49"
  },
  "kernelspec": {
   "display_name": "Python 3.9.10 64-bit",
   "language": "python",
   "name": "python3"
  },
  "language_info": {
   "codemirror_mode": {
    "name": "ipython",
    "version": 3
   },
   "file_extension": ".py",
   "mimetype": "text/x-python",
   "name": "python",
   "nbconvert_exporter": "python",
   "pygments_lexer": "ipython3",
   "version": "3.9.10"
  },
  "orig_nbformat": 4
 },
 "nbformat": 4,
 "nbformat_minor": 2
}
