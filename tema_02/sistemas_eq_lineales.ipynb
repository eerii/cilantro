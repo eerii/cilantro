{
 "cells": [
  {
   "cell_type": "code",
   "execution_count": 1,
   "metadata": {},
   "outputs": [],
   "source": [
    "import numpy as np\n",
    "import matplotlib.pyplot as plt\n",
    "from procesar_ecuacion import procesar_ecuacion"
   ]
  },
  {
   "cell_type": "markdown",
   "metadata": {},
   "source": [
    "### Convertir ecuacións a numpy\n",
    "\n",
    "Exemplo sobre como procesar unha lista de ecuacións en formato textual a un array de numpy utilizando o módulo `procesar_ecuacions.py`."
   ]
  },
  {
   "cell_type": "code",
   "execution_count": 2,
   "metadata": {},
   "outputs": [
    {
     "data": {
      "text/plain": [
       "array([[ 3, -2,  4,  0],\n",
       "       [ 5,  3, -2,  3]])"
      ]
     },
     "execution_count": 2,
     "metadata": {},
     "output_type": "execute_result"
    }
   ],
   "source": [
    "ecuacions = (\n",
    "    \"3x - 2y + 4z = 0\",\n",
    "    \"5x + 3y - 2z = 3\",\n",
    ")\n",
    "\n",
    "procesar_ecuacion(*ecuacions)"
   ]
  },
  {
   "cell_type": "markdown",
   "metadata": {},
   "source": [
    "### Eliminación gaussiana sin pivoteo"
   ]
  },
  {
   "cell_type": "code",
   "execution_count": 16,
   "metadata": {},
   "outputs": [],
   "source": [
    "# Obter a columna dun array 2D\n",
    "columna = lambda a, n: a[:, n]\n",
    "\n",
    "# Obter as matrices de coeficientes e o vector de termos independientes de un sistema conxunto\n",
    "def dividir_sistema(ecuacions):\n",
    "    coefs = np.array([x[:-1] for x in ecuacions])\n",
    "    t_ind = np.array([x[-1] for x in ecuacions])\n",
    "    return coefs, t_ind\n",
    "\n",
    "# Inversa da función anterior, devolve un sistema combinado\n",
    "def sistema_combinado(coefs, t_ind):\n",
    "    return np.array([[x for x in coefs[i]] + [t_ind[i]] for i in range(len(coefs))])\n",
    "\n",
    "# Transforma unha matriz nunha matriz triangular superior\n",
    "def matriz_triangular_superior(ecuacions, fila_pivote=0):\n",
    "    sistema = ecuacions.astype(float) # Sistema de ecuacions sobre o que operar\n",
    "    n_filas = len(ec) # Número de filas\n",
    "    n_columnas = len(ec[0]) # Número de columnas\n",
    "    outras_filas = [f for f in range(n_filas) if f != fila_pivote] # Filas distintas da pivote\n",
    "\n",
    "    # Iterar polos elementos do triángulo iferior da matriz\n",
    "    for c in range(n_columnas):\n",
    "        p = sistema[fila_pivote][c]\n",
    "\n",
    "        for f in outras_filas:\n",
    "            # Cálculo coeficiente\n",
    "            k = sistema[f][c] / p\n",
    "            print(\"Columna: {} - Fila: {} - a_{}{} / a_{}{} = {}\".format(c+1, f+1, f+1, c+1, fila_pivote+1, c+1, k))\n",
    "            \n",
    "            # Restar a N final menos o producto do coeficiente pola fila pivote\n",
    "            temp = np.copy(sistema[f])\n",
    "            sistema[f] -= k * sistema[fila_pivote]\n",
    "            print(\"{} -> {}\".format(temp, sistema[f]))\n",
    "        \n",
    "        for f in outras_filas:\n",
    "            if sistema[f][c] == 0:\n",
    "                fila_pivote = f\n",
    "                outras_filas.remove(f)\n",
    "                break\n",
    "\n",
    "        print(\"\\nSistema reducido:\\n{}\".format(sistema))\n",
    "\n",
    "        if len(outras_filas) == 0:\n",
    "            break\n",
    "\n",
    "        print(\"Nova fila pivote: {}\\n\".format(fila_pivote))\n",
    "\n",
    "    return sistema\n"
   ]
  },
  {
   "cell_type": "code",
   "execution_count": 17,
   "metadata": {},
   "outputs": [
    {
     "name": "stdout",
     "output_type": "stream",
     "text": [
      "Sistema inicial:\n",
      "[[ 2 -1  1  3]\n",
      " [-1  1  2  7]\n",
      " [ 1  2 -1  2]]\n",
      "\n",
      "Columna: 1 - Fila: 2 - a_21 / a_11 = -0.5\n",
      "[-1.  1.  2.  7.] -> [0.  0.5 2.5 8.5]\n",
      "Columna: 1 - Fila: 3 - a_31 / a_11 = 0.5\n",
      "[ 1.  2. -1.  2.] -> [ 0.   2.5 -1.5  0.5]\n",
      "\n",
      "Sistema reducido:\n",
      "[[ 2.  -1.   1.   3. ]\n",
      " [ 0.   0.5  2.5  8.5]\n",
      " [ 0.   2.5 -1.5  0.5]]\n",
      "Nova fila pivote: 1\n",
      "\n",
      "Columna: 2 - Fila: 3 - a_32 / a_22 = 5.0\n",
      "[ 0.   2.5 -1.5  0.5] -> [  0.   0. -14. -42.]\n",
      "\n",
      "Sistema reducido:\n",
      "[[  2.   -1.    1.    3. ]\n",
      " [  0.    0.5   2.5   8.5]\n",
      " [  0.    0.  -14.  -42. ]]\n",
      "\n",
      "Sistema reducido:\n",
      "[[  2.   -1.    1.    3. ]\n",
      " [  0.    0.5   2.5   8.5]\n",
      " [  0.    0.  -14.  -42. ]]\n"
     ]
    }
   ],
   "source": [
    "# Sistema de ecuacións plantexado\n",
    "\n",
    "ecuacions_s = (\n",
    "    \"2x1 -  x2 + x3  = 3\",\n",
    "    \"-x1 +  x2 + 2x3 = 7\",\n",
    "    \" x1 + 2x2 - x3  = 2\",\n",
    ")\n",
    "\n",
    "ec, keys = procesar_ecuacion(*ecuacions_s, nomes=True)\n",
    "print(\"Sistema inicial:\\n{}\\n\".format(ec))\n",
    "\n",
    "sistema_reducido = matriz_triangular_superior(ec, 0)\n",
    "print(\"\\nSistema reducido:\\n{}\".format(sistema_reducido))"
   ]
  },
  {
   "cell_type": "code",
   "execution_count": 15,
   "metadata": {},
   "outputs": [
    {
     "name": "stdout",
     "output_type": "stream",
     "text": [
      "Sistema inicial:\n",
      "[[ 2 -1  1 -2  3]\n",
      " [-1  1  2 -3  7]\n",
      " [ 1  2 -1  1  2]\n",
      " [ 3  2 -1 -5  9]]\n",
      "\n",
      "\n",
      "Columna: 1 - Fila: 2 - a_21 / a_11 = -0.5\n",
      "[-1.  1.  2. -3.  7.] -> [ 0.   0.5  2.5 -4.   8.5]\n",
      "Columna: 1 - Fila: 3 - a_31 / a_11 = 0.5\n",
      "[ 1.  2. -1.  1.  2.] -> [ 0.   2.5 -1.5  2.   0.5]\n",
      "Nova fila pivote: 1\n",
      "\n",
      "Columna: 2 - Fila: 3 - a_32 / a_22 = 5.0\n",
      "[ 0.   2.5 -1.5  2.   0.5] -> [  0.   0. -14.  22. -42.]\n"
     ]
    }
   ],
   "source": [
    "# Sistema de ecuacións plantexado\n",
    "\n",
    "ecuacions_s2 = (\n",
    "    \"2x1 -  x2 + x3  - 2x4 = 3\",\n",
    "    \"-x1 +  x2 + 2x3 - 3x4 = 7\",\n",
    "    \" x1 + 2x2 - x3  +  x4 = 2\",\n",
    "    \"3x1 + 2x2 - x3  - 5x4 = 9\",\n",
    ")\n",
    "\n",
    "ec_2, keys_2 = procesar_ecuacion(*ecuacions_s2, nomes=True)\n",
    "print(\"Sistema inicial:\\n{}\\n\".format(ec_2))\n",
    "\n",
    "sistema_reducido_2 = matriz_triangular_superior(ec_2, 0)"
   ]
  },
  {
   "cell_type": "code",
   "execution_count": 6,
   "metadata": {},
   "outputs": [
    {
     "name": "stdout",
     "output_type": "stream",
     "text": [
      "[[ 2 -1  1]\n",
      " [-1  1  2]\n",
      " [ 1  2 -1]]\n",
      "[3 7 2]\n",
      "[[ 2 -1  1  3]\n",
      " [-1  1  2  7]\n",
      " [ 1  2 -1  2]]\n"
     ]
    }
   ],
   "source": [
    "coefs, t_ind = dividir_sistema(ec)\n",
    "print(coefs)\n",
    "print(t_ind)\n",
    "\n",
    "s_comb = sistema_combinado(coefs, t_ind)\n",
    "print(s_comb)"
   ]
  },
  {
   "cell_type": "code",
   "execution_count": null,
   "metadata": {},
   "outputs": [],
   "source": []
  }
 ],
 "metadata": {
  "interpreter": {
   "hash": "aee8b7b246df8f9039afb4144a1f6fd8d2ca17a180786b69acc140d282b71a49"
  },
  "kernelspec": {
   "display_name": "Python 3.9.10 64-bit",
   "language": "python",
   "name": "python3"
  },
  "language_info": {
   "codemirror_mode": {
    "name": "ipython",
    "version": 3
   },
   "file_extension": ".py",
   "mimetype": "text/x-python",
   "name": "python",
   "nbconvert_exporter": "python",
   "pygments_lexer": "ipython3",
   "version": "3.9.10"
  },
  "orig_nbformat": 4
 },
 "nbformat": 4,
 "nbformat_minor": 2
}
