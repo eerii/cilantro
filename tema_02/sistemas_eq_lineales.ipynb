{
 "cells": [
  {
   "cell_type": "code",
   "execution_count": 1,
   "metadata": {},
   "outputs": [],
   "source": [
    "import numpy as np\n",
    "import matplotlib.pyplot as plt\n",
    "from procesar_ecuacion import procesar_ecuacion"
   ]
  },
  {
   "cell_type": "markdown",
   "metadata": {},
   "source": [
    "### Convertir ecuacións a numpy\n",
    "\n",
    "Exemplo sobre como procesar unha lista de ecuacións en formato textual a un array de numpy utilizando o módulo `procesar_ecuacions.py`."
   ]
  },
  {
   "cell_type": "code",
   "execution_count": 2,
   "metadata": {},
   "outputs": [
    {
     "data": {
      "text/plain": [
       "array([[ 3, -2,  4,  0],\n",
       "       [ 5,  3, -2,  3]])"
      ]
     },
     "execution_count": 2,
     "metadata": {},
     "output_type": "execute_result"
    }
   ],
   "source": [
    "ecuacions = (\n",
    "    \"3x - 2y + 4z = 0\",\n",
    "    \"5x + 3y - 2z = 3\",\n",
    ")\n",
    "\n",
    "procesar_ecuacion(*ecuacions)"
   ]
  },
  {
   "cell_type": "markdown",
   "metadata": {},
   "source": [
    "### Eliminación gaussiana sin pivoteo"
   ]
  },
  {
   "cell_type": "code",
   "execution_count": 5,
   "metadata": {},
   "outputs": [
    {
     "name": "stdout",
     "output_type": "stream",
     "text": [
      "[[ 2 -1  1  3]\n",
      " [-1  1  2  7]\n",
      " [ 1  2 -1  2]]\n",
      "dict_keys(['x1', 'x2', 'x3', 'b'])\n"
     ]
    }
   ],
   "source": [
    "ecuacions_s = (\n",
    "    \"2x1 -  x2 + x3  = 3\",\n",
    "    \"-x1 +  x2 + 2x3 = 7\",\n",
    "    \" x1 + 2x2 - x3  = 2\",\n",
    ")\n",
    "\n",
    "ec, keys = procesar_ecuacion(*ecuacions_s, nomes=True)\n",
    "\n",
    "print(ec)\n",
    "print(keys)"
   ]
  },
  {
   "cell_type": "code",
   "execution_count": null,
   "metadata": {},
   "outputs": [],
   "source": []
  }
 ],
 "metadata": {
  "interpreter": {
   "hash": "aee8b7b246df8f9039afb4144a1f6fd8d2ca17a180786b69acc140d282b71a49"
  },
  "kernelspec": {
   "display_name": "Python 3.9.10 64-bit",
   "language": "python",
   "name": "python3"
  },
  "language_info": {
   "codemirror_mode": {
    "name": "ipython",
    "version": 3
   },
   "file_extension": ".py",
   "mimetype": "text/x-python",
   "name": "python",
   "nbconvert_exporter": "python",
   "pygments_lexer": "ipython3",
   "version": "3.9.10"
  },
  "orig_nbformat": 4
 },
 "nbformat": 4,
 "nbformat_minor": 2
}
