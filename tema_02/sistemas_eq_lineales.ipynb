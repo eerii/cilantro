{
 "cells": [
  {
   "cell_type": "code",
   "execution_count": 1,
   "metadata": {},
   "outputs": [],
   "source": [
    "import numpy as np\n",
    "import matplotlib.pyplot as plt\n",
    "from procesar_ecuacion import procesar_ecuacion"
   ]
  },
  {
   "cell_type": "markdown",
   "metadata": {},
   "source": [
    "### Convertir ecuacións a numpy\n",
    "\n",
    "Exemplo sobre como procesar unha lista de ecuacións en formato textual a un array de numpy utilizando o módulo `procesar_ecuacions.py`."
   ]
  },
  {
   "cell_type": "code",
   "execution_count": 2,
   "metadata": {},
   "outputs": [
    {
     "data": {
      "text/plain": [
       "array([[ 3, -2,  4,  0],\n",
       "       [ 5,  3, -2,  3]])"
      ]
     },
     "execution_count": 2,
     "metadata": {},
     "output_type": "execute_result"
    }
   ],
   "source": [
    "ecuacions = (\n",
    "    \"3x - 2y + 4z = 0\",\n",
    "    \"5x + 3y - 2z = 3\",\n",
    ")\n",
    "\n",
    "procesar_ecuacion(*ecuacions)"
   ]
  },
  {
   "cell_type": "markdown",
   "metadata": {},
   "source": [
    "### Manipular as matrices do sistema"
   ]
  },
  {
   "cell_type": "code",
   "execution_count": 3,
   "metadata": {},
   "outputs": [],
   "source": [
    "# Obter as matrices de coeficientes e o vector de termos independientes de un sistema conxunto\n",
    "def dividir_sistema(ecuacions):\n",
    "    coefs = np.array([x[:-1] for x in ecuacions])\n",
    "    t_ind = np.array([x[-1] for x in ecuacions])\n",
    "    return coefs, t_ind\n",
    "\n",
    "# Inversa da función anterior, devolve un sistema combinado\n",
    "def combinar_sistema(coefs, t_ind):\n",
    "    return np.array([[x for x in coefs[i]] + [t_ind[i]] for i in range(len(coefs))])"
   ]
  },
  {
   "cell_type": "markdown",
   "metadata": {},
   "source": [
    "### Triangulación de matrices\n",
    "\n",
    "Eliminación de Gauss"
   ]
  },
  {
   "cell_type": "code",
   "execution_count": 4,
   "metadata": {},
   "outputs": [],
   "source": [
    "# Eliminación de Gauss\n",
    "def eliminacion_gauss(sistema, columna, salida=True):\n",
    "    p = sistema[eliminacion_gauss.fila_pivote][columna]\n",
    "\n",
    "    eliminacion_gauss.i += 1\n",
    "    if salida:\n",
    "        print(\"Paso {} - Fila pivote: {}\".format(eliminacion_gauss.i, eliminacion_gauss.fila_pivote+1))\n",
    "\n",
    "    for f in eliminacion_gauss.outras_filas:\n",
    "        # Cálculo coeficiente\n",
    "        k = sistema[f][columna] / p\n",
    "        if salida:\n",
    "            print(\"Columna: {} - Fila: {} - a_{}{} / a_{}{} = {}\".format(columna+1, f+1, f+1, columna+1, eliminacion_gauss.fila_pivote+1, columna+1, k))\n",
    "        \n",
    "        # Restar a N final menos o producto do coeficiente pola fila pivote\n",
    "        temp = np.copy(sistema[f])\n",
    "        sistema[f] -= k * sistema[eliminacion_gauss.fila_pivote]\n",
    "        if salida:\n",
    "            print(\"{} -> {}\".format(temp, sistema[f]))\n",
    "    \n",
    "    for f in eliminacion_gauss.outras_filas:\n",
    "        if sistema[f][columna] == 0:\n",
    "            eliminacion_gauss.fila_pivote = f\n",
    "            eliminacion_gauss.outras_filas.remove(f)\n",
    "            break\n",
    "\n",
    "    if salida:\n",
    "        print(\"Sistema:\\n{}\".format(sistema))\n",
    "\n",
    "# Transforma unha matriz nunha matriz triangular superior\n",
    "def sin_pivote(ecuacions, fila_pivote=0, salida=True):\n",
    "    sistema = ecuacions.astype(float) # Sistema de ecuacions sobre o que operar\n",
    "    \n",
    "    # Parametros iniciais da eliminación de Gauss\n",
    "    eliminacion_gauss.i = 0\n",
    "    eliminacion_gauss.fila_pivote = fila_pivote\n",
    "    eliminacion_gauss.outras_filas = [f for f in range(len(sistema)) if f != fila_pivote] # Filas distintas da pivote\n",
    "    \n",
    "    # Iterar polos elementos do triángulo iferior da matriz\n",
    "    for c in range(len(ecuacions[0])):\n",
    "        eliminacion_gauss(sistema, c, salida)\n",
    "        if len(eliminacion_gauss.outras_filas) == 0:\n",
    "            break\n",
    "\n",
    "    return sistema\n"
   ]
  },
  {
   "cell_type": "markdown",
   "metadata": {},
   "source": [
    "### Cálculo de soluciones\n",
    "\n",
    "Sustitución regresiva"
   ]
  },
  {
   "cell_type": "code",
   "execution_count": 5,
   "metadata": {},
   "outputs": [],
   "source": [
    "def comprobar_matriz_triangular(m):\n",
    "    for i in range(len(m)):\n",
    "        for j in range(len(m[0])):\n",
    "            if i > j and m[i][j] != 0:\n",
    "                return False\n",
    "    return True\n",
    "\n",
    "def ordear_matriz_triangular(m):\n",
    "    if not comprobar_matriz_triangular(m):\n",
    "        raise ValueError(\"A matriz non é triangular superior\")\n",
    "    m_ = np.copy(m).tolist()\n",
    "    m_.sort(key = lambda m: m[:-1].count(0))\n",
    "    return np.array(m_)"
   ]
  },
  {
   "cell_type": "code",
   "execution_count": 6,
   "metadata": {},
   "outputs": [],
   "source": [
    "def sustitucion_regresiva(sistema_reducido):\n",
    "    m = ordear_matriz_triangular(sistema_reducido)\n",
    "    solucions = np.zeros(len(m))\n",
    "\n",
    "    for i in range(len(m))[::-1]:\n",
    "        a = m[i][:-1] * solucions\n",
    "        solucions[i] = (m[i][-1] - sum(a)) / m[i][i]\n",
    "\n",
    "    return solucions"
   ]
  },
  {
   "cell_type": "code",
   "execution_count": 7,
   "metadata": {},
   "outputs": [],
   "source": [
    "solucions_a_texto = lambda sol, keys: \" - \".join([\"{}: {}\".format(list(keys)[i], sol[i]) for i in range(len(sol))])"
   ]
  },
  {
   "cell_type": "markdown",
   "metadata": {},
   "source": [
    "## Exercicio 1"
   ]
  },
  {
   "cell_type": "code",
   "execution_count": 8,
   "metadata": {},
   "outputs": [
    {
     "name": "stdout",
     "output_type": "stream",
     "text": [
      "Sistema inicial:\n",
      "[[ 2 -1  1  3]\n",
      " [-1  1  2  7]\n",
      " [ 1  2 -1  2]]\n",
      "\n",
      "Paso 1 - Fila pivote: 1\n",
      "Columna: 1 - Fila: 2 - a_21 / a_11 = -0.5\n",
      "[-1.  1.  2.  7.] -> [0.  0.5 2.5 8.5]\n",
      "Columna: 1 - Fila: 3 - a_31 / a_11 = 0.5\n",
      "[ 1.  2. -1.  2.] -> [ 0.   2.5 -1.5  0.5]\n",
      "Sistema:\n",
      "[[ 2.  -1.   1.   3. ]\n",
      " [ 0.   0.5  2.5  8.5]\n",
      " [ 0.   2.5 -1.5  0.5]]\n",
      "Paso 2 - Fila pivote: 2\n",
      "Columna: 2 - Fila: 3 - a_32 / a_22 = 5.0\n",
      "[ 0.   2.5 -1.5  0.5] -> [  0.   0. -14. -42.]\n",
      "Sistema:\n",
      "[[  2.   -1.    1.    3. ]\n",
      " [  0.    0.5   2.5   8.5]\n",
      " [  0.    0.  -14.  -42. ]]\n",
      "\n",
      "Sistema final:\n",
      "[[  2.   -1.    1.    3. ]\n",
      " [  0.    0.5   2.5   8.5]\n",
      " [  0.    0.  -14.  -42. ]]\n",
      "\n",
      "Solucións: x1: 1.0 - x2: 2.0 - x3: 3.0\n"
     ]
    }
   ],
   "source": [
    "# Sistema de ecuacións plantexado\n",
    "\n",
    "ecuacions_s = (\n",
    "    \"2x1 -  x2 + x3  = 3\",\n",
    "    \"-x1 +  x2 + 2x3 = 7\",\n",
    "    \" x1 + 2x2 - x3  = 2\",\n",
    ")\n",
    "\n",
    "ec, keys = procesar_ecuacion(*ecuacions_s, nomes=True)\n",
    "print(\"Sistema inicial:\\n{}\\n\".format(ec))\n",
    "\n",
    "sistema_reducido = sin_pivote(ec)\n",
    "print(\"\\nSistema final:\\n{}\".format(sistema_reducido))\n",
    "\n",
    "sol = sustitucion_regresiva(sistema_reducido)\n",
    "print(\"\\nSolucións:\", solucions_a_texto(sol, keys))"
   ]
  },
  {
   "cell_type": "markdown",
   "metadata": {},
   "source": [
    "### Proba con sistemas de orden superior"
   ]
  },
  {
   "cell_type": "code",
   "execution_count": 9,
   "metadata": {},
   "outputs": [
    {
     "name": "stdout",
     "output_type": "stream",
     "text": [
      "Sistema inicial:\n",
      "[[ 2 -1  1 -2  3]\n",
      " [-1  1  2 -3  7]\n",
      " [ 1  2 -1  1  2]\n",
      " [ 3  2 -1 -5  9]]\n",
      "\n",
      "Sistema final:\n",
      "[[  2.    -1.     1.    -2.     3.  ]\n",
      " [  0.     0.5    2.5   -4.     8.5 ]\n",
      " [  0.     0.   -14.    22.   -42.  ]\n",
      " [  0.     0.     0.    -5.43   5.  ]]\n",
      "\n",
      "Solucións: x1: 0.74 - x2: 1.87 - x3: 1.55 - x4: -0.92\n"
     ]
    }
   ],
   "source": [
    "# Sistema de ecuacións plantexado\n",
    "\n",
    "ecuacions_s2 = (\n",
    "    \"2x1 -  x2 + x3  - 2x4 = 3\",\n",
    "    \"-x1 +  x2 + 2x3 - 3x4 = 7\",\n",
    "    \" x1 + 2x2 - x3  +  x4 = 2\",\n",
    "    \"3x1 + 2x2 - x3  - 5x4 = 9\",\n",
    ")\n",
    "\n",
    "ec_2, keys_2 = procesar_ecuacion(*ecuacions_s2, nomes=True)\n",
    "print(\"Sistema inicial:\\n{}\\n\".format(ec_2))\n",
    "\n",
    "sistema_reducido_2 = sin_pivote(ec_2, salida=False)\n",
    "print(\"Sistema final:\\n{}\".format(np.round(sistema_reducido_2, 2)))\n",
    "\n",
    "sol_2 = np.round(sustitucion_regresiva(sistema_reducido_2), 2)\n",
    "print(\"\\nSolucións:\", solucions_a_texto(sol_2, keys_2))"
   ]
  },
  {
   "cell_type": "markdown",
   "metadata": {},
   "source": [
    "### Pivoteo parcial"
   ]
  },
  {
   "cell_type": "code",
   "execution_count": 10,
   "metadata": {},
   "outputs": [],
   "source": [
    "# Obter a columna dun array 2D\n",
    "columna = lambda a, n: a[:, n]\n",
    "\n",
    "def pivoteo_parcial(ecuacions, fila_pivote=0, salida=True):\n",
    "    sistema = ecuacions.astype(float) # Sistema de ecuacions sobre o que operar\n",
    "    n_columnas = len(sistema[0]) # Número de columnas\n",
    "\n",
    "    # Parametros iniciais da eliminación de Gauss\n",
    "    eliminacion_gauss.i = 0\n",
    "    eliminacion_gauss.fila_pivote = fila_pivote\n",
    "    eliminacion_gauss.outras_filas = [f for f in range(len(sistema)) if f != fila_pivote] # Filas distintas da pivote\n",
    "\n",
    "    for i in range(n_columnas - 1):\n",
    "        c = columna(sistema, i)\n",
    "\n",
    "        # Pivotar fila\n",
    "        fila_max = abs(c[i:]).argmax() + i\n",
    "        if fila_max != i:\n",
    "            sistema[[i, fila_max]] = sistema[[fila_max, i]]\n",
    "        \n",
    "        # Eliminación Gauss\n",
    "        eliminacion_gauss(sistema, i, salida)\n",
    "        if len(eliminacion_gauss.outras_filas) == 0:\n",
    "            break\n",
    "        \n",
    "    return sistema"
   ]
  },
  {
   "cell_type": "markdown",
   "metadata": {},
   "source": [
    "## Exercicio 3"
   ]
  },
  {
   "cell_type": "code",
   "execution_count": 11,
   "metadata": {},
   "outputs": [
    {
     "name": "stdout",
     "output_type": "stream",
     "text": [
      "Sistema inicial:\n",
      "[[ 1  2 -1  2]\n",
      " [ 2  4  5 25]\n",
      " [ 3 -1 -2 -5]]\n",
      "\n",
      "Sistema reducido:\n",
      "[[  3.    -1.    -2.    -5.  ]\n",
      " [  0.     4.67   6.33  28.33]\n",
      " [  0.     0.    -3.5  -10.5 ]]\n",
      "\n",
      "Solucións: x1: 1.0 - x2: 2.0 - x3: 3.0\n"
     ]
    }
   ],
   "source": [
    "ecuacions_pv = (\n",
    "    \" x1 + 2x2 -  x3 = 2\",\n",
    "    \"2x1 + 4x2 + 5x3 = 25\",\n",
    "    \"3x1 -  x2 - 2x3 = -5\",\n",
    ")\n",
    "\n",
    "ec_pv, keys_pv = procesar_ecuacion(*ecuacions_pv, nomes=True)\n",
    "print(\"Sistema inicial:\\n{}\".format(ec_pv))\n",
    "\n",
    "sr_pv = pivoteo_parcial(ec_pv, salida=False)\n",
    "print(\"\\nSistema reducido:\\n{}\".format(np.round(sr_pv, 2)))\n",
    "\n",
    "sol_pv = sustitucion_regresiva(sr_pv)\n",
    "print(\"\\nSolucións:\", solucions_a_texto(np.round(sol_pv, 2), keys_pv))"
   ]
  },
  {
   "cell_type": "markdown",
   "metadata": {},
   "source": [
    "## Exercicio 4"
   ]
  },
  {
   "cell_type": "code",
   "execution_count": 12,
   "metadata": {},
   "outputs": [
    {
     "name": "stdout",
     "output_type": "stream",
     "text": [
      "Sistema inicial:\n",
      "[[  1.    2.   -3.   -1.   -2.5]\n",
      " [  0.   -3.    2.    6.    7. ]\n",
      " [ -3.   -1.    3.    1.    2.5]\n",
      " [  2.    3.    2.   -1.  -10.5]]\n",
      "['x1', 'x2', 'x3', 'x4', 'b']\n",
      "\n",
      "Sistema reducido:\n",
      "[[-3.   -1.    3.    1.    2.5 ]\n",
      " [ 0.   -3.    2.    6.    7.  ]\n",
      " [ 0.    0.    5.56  4.33 -3.39]\n",
      " [ 0.    0.    0.    3.36  1.68]]\n",
      "\n",
      "Solucións: x1: -1.0 - x2: -2.0 - x3: -1.0 - x4: 0.5\n"
     ]
    }
   ],
   "source": [
    "ecuacions_pv = (\n",
    "    \"x1 + 2x2 - 3x3 - x4 = -2.5\",\n",
    "    \"-3x2 + 2x3 + 6x4 = 7\",\n",
    "    \"-3x1 - x2 + 3x3 + x4 = 2.5\",\n",
    "    \"2x1 + 3x2 + 2x3 - x4 = -10.5\",\n",
    ")\n",
    "\n",
    "ec_pv, keys_pv = procesar_ecuacion(*ecuacions_pv, nomes=True)\n",
    "print(\"Sistema inicial:\\n{}\".format(ec_pv))\n",
    "print(keys_pv)\n",
    "\n",
    "sr_pv = pivoteo_parcial(ec_pv, salida=False)\n",
    "print(\"\\nSistema reducido:\\n{}\".format(np.round(sr_pv, 2)))\n",
    "\n",
    "sol_pv = sustitucion_regresiva(sr_pv)\n",
    "print(\"\\nSolucións:\", solucions_a_texto(np.round(sol_pv, 2), keys_pv))"
   ]
  },
  {
   "cell_type": "markdown",
   "metadata": {},
   "source": [
    "### Proba cun sistema de 6 ecuacións"
   ]
  },
  {
   "cell_type": "code",
   "execution_count": 16,
   "metadata": {},
   "outputs": [
    {
     "name": "stdout",
     "output_type": "stream",
     "text": [
      "Sistema inicial:\n",
      "[[ 2 -1  1 -2  4  3]\n",
      " [-1  1  2 -3  8  7]\n",
      " [ 0  2  0  1  9  2]\n",
      " [ 3  2 -1 -5  0  9]\n",
      " [ 9  4 -8 -3  4  9]]\n",
      "\n",
      "Sistema reducido:\n",
      "[[  9.     4.    -8.    -3.     4.     9.  ]\n",
      " [  0.     2.     0.     1.     9.     2.  ]\n",
      " [  0.     0.     2.78  -0.39  11.61   2.89]\n",
      " [  0.     0.     0.    -4.1  -11.3    3.6 ]\n",
      " [  0.     0.     0.     0.     8.05   1.98]]\n",
      "\n",
      "Solucións: x1: -0.11 - x2: 0.67 - x3: -0.2 - x4: -1.55 - x5: 0.25\n"
     ]
    }
   ],
   "source": [
    "ecuacions_pv = (\n",
    "    \"2x1 -  x2 + x3  - 2x4 + 4x5 = 3\",\n",
    "    \"-x1 +  x2 + 2x3 - 3x4 + 8x5 = 7\",\n",
    "    \"      2x2       +  x4 + 9x5 = 2\",\n",
    "    \"3x1 + 2x2 - x3  - 5x4       = 9\",\n",
    "    \"9x1 + 4x2 - 8x3 - 3x4 + 4x5 = 9\",\n",
    ")\n",
    "\n",
    "ec_pv, keys_pv = procesar_ecuacion(*ecuacions_pv, nomes=True)\n",
    "print(\"Sistema inicial:\\n{}\".format(ec_pv))\n",
    "\n",
    "sr_pv = pivoteo_parcial(ec_pv, salida=False)\n",
    "print(\"\\nSistema reducido:\\n{}\".format(np.round(sr_pv, 2)))\n",
    "\n",
    "sol_pv = sustitucion_regresiva(sr_pv)\n",
    "print(\"\\nSolucións:\", solucions_a_texto(np.round(sol_pv, 2), keys_pv))\n"
   ]
  },
  {
   "cell_type": "code",
   "execution_count": null,
   "metadata": {},
   "outputs": [],
   "source": []
  }
 ],
 "metadata": {
  "interpreter": {
   "hash": "aee8b7b246df8f9039afb4144a1f6fd8d2ca17a180786b69acc140d282b71a49"
  },
  "kernelspec": {
   "display_name": "Python 3.9.10 64-bit",
   "language": "python",
   "name": "python3"
  },
  "language_info": {
   "codemirror_mode": {
    "name": "ipython",
    "version": 3
   },
   "file_extension": ".py",
   "mimetype": "text/x-python",
   "name": "python",
   "nbconvert_exporter": "python",
   "pygments_lexer": "ipython3",
   "version": "3.9.10"
  },
  "orig_nbformat": 4
 },
 "nbformat": 4,
 "nbformat_minor": 2
}
