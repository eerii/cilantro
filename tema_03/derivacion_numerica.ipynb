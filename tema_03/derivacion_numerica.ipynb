{
 "cells": [
  {
   "cell_type": "markdown",
   "metadata": {},
   "source": [
    "## Derivación numérica"
   ]
  },
  {
   "cell_type": "code",
   "execution_count": 34,
   "metadata": {},
   "outputs": [],
   "source": [
    "import numpy as np\n",
    "import matplotlib.pyplot as plt\n",
    "import pandas as pd"
   ]
  },
  {
   "cell_type": "code",
   "execution_count": 8,
   "metadata": {},
   "outputs": [],
   "source": [
    "# Factorial\n",
    "def factorial(n):\n",
    "    if n == 0:\n",
    "        return 1\n",
    "    else:\n",
    "        return n * factorial(n-1)"
   ]
  },
  {
   "cell_type": "code",
   "execution_count": 18,
   "metadata": {},
   "outputs": [
    {
     "data": {
      "text/plain": [
       "-1.1546875"
      ]
     },
     "execution_count": 18,
     "metadata": {},
     "output_type": "execute_result"
    }
   ],
   "source": [
    "# Solución de Github Copilot (flipando sos)\n",
    "def derivada_numerica(f, x0, h):\n",
    "    n = 0\n",
    "    f_x0 = f(x0)\n",
    "    f_x1 = f(x0 + h)\n",
    "    while f_x1 == f_x0:\n",
    "        n += 1\n",
    "        f_x1 = f(x0 + n*h)\n",
    "    return (f_x1 - f_x0)/h\n",
    "\n",
    "f = lambda x : -0.1*x**4 - 0.15*x**3 - 0.5*x**2 + - 0.25*x + 1.2\n",
    "derivada_numerica(f, 0.5, 0.25)"
   ]
  },
  {
   "cell_type": "code",
   "execution_count": 43,
   "metadata": {},
   "outputs": [
    {
     "name": "stdout",
     "output_type": "stream",
     "text": [
      "diferencia hacia delante: -1.1547, error: 0.2422\n",
      "diferencia hacia atrás: -0.7141, error: 0.1984\n",
      "diferencia centrada: -0.9344, error: 0.0219\n"
     ]
    }
   ],
   "source": [
    "# Desarrollo de Taylor\n",
    "# f(x0 + h) = f(x0) + h*f'(x0) + h^2/2!*f''(x0) + h^3/3!*f'''(x0) + ...\n",
    "\n",
    "# Diferencia hacia delante\n",
    "# f'(x0 + h) = (f(x0 + h) - f(x0))/h + E(h)\n",
    "# E(h) = -h/2 * f''(x0)\n",
    "\n",
    "def diferencia_hacia_delante(f, x0, h):\n",
    "    return (f(x0 + h) - f(x0))/h\n",
    "\n",
    "# Diferencia hacia atrás\n",
    "# f'(x0 + h) = (f(x0) - f(x0 - h))/h + E(h)\n",
    "# E(h) = h/2 * f''(x0)\n",
    "\n",
    "def diferencia_hacia_atras(f, x0, h):\n",
    "    return (f(x0) - f(x0 - h))/h\n",
    "\n",
    "# Diferencia centrada\n",
    "# f'(x0 + h) = (f(x0 + h) - f(x0 - h))/2h + E(h)\n",
    "# E(h) = h**2/6 * f'''(x0)\n",
    "\n",
    "def diferencia_centrada(f, x0, h):\n",
    "    return (f(x0 + h) - f(x0 - h))/(2*h)\n",
    "\n",
    "f = lambda x : -0.1*x**4 - 0.15*x**3 - 0.5*x**2 - 0.25*x + 1.2\n",
    "f_2 = lambda x : -0.4*x**3 - 0.45*x**2 - 1*x + - 0.25\n",
    "\n",
    "x0 = 0.5\n",
    "h = 0.25\n",
    "valor_real = f_2(0.5)\n",
    "\n",
    "d_1 = diferencia_hacia_delante(f, x0, h)\n",
    "d_2 = diferencia_hacia_atras(f, x0, h)\n",
    "d_3 = diferencia_centrada(f, x0, h)\n",
    "\n",
    "print(\"diferencia hacia delante: {:.4f}, error: {:.4f}\".format(d_1, abs(valor_real - d_1)))\n",
    "print(\"diferencia hacia atrás: {:.4f}, error: {:.4f}\".format(d_2, abs(valor_real - d_2)))\n",
    "print(\"diferencia centrada: {:.4f}, error: {:.4f}\".format(d_3, abs(valor_real - d_3)))"
   ]
  },
  {
   "cell_type": "code",
   "execution_count": 39,
   "metadata": {},
   "outputs": [
    {
     "name": "stdout",
     "output_type": "stream",
     "text": [
      "               h       d_c         err_c       d_m         err_m\n",
      "0   1.000000e+00 -2.880000  1.000000e+00 -3.880000  1.332268e-15\n",
      "1   1.000000e-01 -3.870000  1.000000e-02 -3.880000  6.661338e-15\n",
      "2   1.000000e-02 -3.879900  1.000000e-04 -3.880000  2.664535e-14\n",
      "3   1.000000e-03 -3.879999  1.000000e-06 -3.880000  5.968559e-13\n",
      "4   1.000000e-04 -3.880000  1.000034e-08 -3.880000  5.502265e-13\n",
      "5   1.000000e-05 -3.880000  8.826762e-11 -3.880000  2.275469e-11\n",
      "6   1.000000e-06 -3.880000  4.879475e-10 -3.880000  6.729848e-10\n",
      "7   1.000000e-07 -3.880000  3.152483e-09 -3.880000  3.522557e-09\n",
      "8   1.000000e-08 -3.880000  1.017019e-08 -3.880000  6.469450e-09\n",
      "9   1.000000e-09 -3.880000  3.210326e-07 -3.880001  5.430772e-07\n",
      "10  1.000000e-10 -3.879999  1.455324e-06 -3.879998  2.195473e-06\n"
     ]
    }
   ],
   "source": [
    "# Diferencias mejoradas\n",
    "def diferencia_mejorada(f, x0, h):\n",
    "    return (-f(x0 + 2*h) + 8*f(x0 + h) - 8*f(x0 - h) + f(x0 - 2*h))/(12*h)\n",
    "\n",
    "f = lambda x: x**3 - 3*x**2 - x + 3\n",
    "f_2 = lambda x: 3*x**2 - 6*x - 1\n",
    "\n",
    "x0 = 1.2\n",
    "h = np.logspace(0, -10, num=11)\n",
    "\n",
    "d_c = diferencia_centrada(f, x0, h)\n",
    "d_m = diferencia_mejorada(f, x0, h)\n",
    "\n",
    "valor_real = f_2(x0)\n",
    "err_c = abs(valor_real - d_c)\n",
    "err_m = abs(valor_real - d_m)\n",
    "\n",
    "d = pd.DataFrame({\"h\": h, \"d_c\": d_c, \"err_c\": err_c, \"d_m\": d_m, \"err_m\": err_m})\n",
    "print(d)"
   ]
  },
  {
   "cell_type": "code",
   "execution_count": null,
   "metadata": {},
   "outputs": [],
   "source": []
  }
 ],
 "metadata": {
  "interpreter": {
   "hash": "aee8b7b246df8f9039afb4144a1f6fd8d2ca17a180786b69acc140d282b71a49"
  },
  "kernelspec": {
   "display_name": "Python 3.9.10 64-bit",
   "language": "python",
   "name": "python3"
  },
  "language_info": {
   "codemirror_mode": {
    "name": "ipython",
    "version": 3
   },
   "file_extension": ".py",
   "mimetype": "text/x-python",
   "name": "python",
   "nbconvert_exporter": "python",
   "pygments_lexer": "ipython3",
   "version": "3.9.10"
  },
  "orig_nbformat": 4
 },
 "nbformat": 4,
 "nbformat_minor": 2
}
